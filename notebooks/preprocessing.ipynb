{
 "cells": [
  {
   "cell_type": "code",
   "execution_count": 1,
   "id": "cc3d0460",
   "metadata": {},
   "outputs": [],
   "source": [
    "# necessary libraries\n",
    "import numpy as np\n",
    "import pandas as pd\n",
    "import matplotlib.pyplot as plt"
   ]
  },
  {
   "cell_type": "code",
   "execution_count": 11,
   "id": "2eae12c9",
   "metadata": {},
   "outputs": [
    {
     "data": {
      "text/html": [
       "<div>\n",
       "<style scoped>\n",
       "    .dataframe tbody tr th:only-of-type {\n",
       "        vertical-align: middle;\n",
       "    }\n",
       "\n",
       "    .dataframe tbody tr th {\n",
       "        vertical-align: top;\n",
       "    }\n",
       "\n",
       "    .dataframe thead th {\n",
       "        text-align: right;\n",
       "    }\n",
       "</style>\n",
       "<table border=\"1\" class=\"dataframe\">\n",
       "  <thead>\n",
       "    <tr style=\"text-align: right;\">\n",
       "      <th></th>\n",
       "      <th>Timestamp</th>\n",
       "      <th>Sex</th>\n",
       "      <th>Mens_tracking</th>\n",
       "      <th>emo_tracking</th>\n",
       "      <th>phase_awareness</th>\n",
       "      <th>condition</th>\n",
       "      <th>condition_name</th>\n",
       "      <th>cycle_length</th>\n",
       "      <th>menstrual_symptoms</th>\n",
       "      <th>ovulation_symptoms</th>\n",
       "      <th>mood1</th>\n",
       "      <th>mood2</th>\n",
       "      <th>mood3</th>\n",
       "      <th>mood4</th>\n",
       "      <th>weeks_from_period</th>\n",
       "      <th>mood_this_week</th>\n",
       "      <th>productivity_rating</th>\n",
       "      <th>workout_hours</th>\n",
       "      <th>nutritional_tracking</th>\n",
       "      <th>self_care</th>\n",
       "    </tr>\n",
       "  </thead>\n",
       "  <tbody>\n",
       "    <tr>\n",
       "      <th>0</th>\n",
       "      <td>2025/10/01 10:27:58 AM GMT+3</td>\n",
       "      <td>Female</td>\n",
       "      <td>Yes, but inconsistently</td>\n",
       "      <td>Sometimes</td>\n",
       "      <td>No</td>\n",
       "      <td>No</td>\n",
       "      <td>NaN</td>\n",
       "      <td>26</td>\n",
       "      <td>Abdominal cramps;Fatigue;Nausea;Cravings;Heada...</td>\n",
       "      <td>Abdominal cramps;Increased sex drive</td>\n",
       "      <td>3</td>\n",
       "      <td>5</td>\n",
       "      <td>8</td>\n",
       "      <td>2</td>\n",
       "      <td>2</td>\n",
       "      <td>Calm</td>\n",
       "      <td>5</td>\n",
       "      <td>5–7 hours</td>\n",
       "      <td>workout_hours</td>\n",
       "      <td>Meditation, yoga, swimming, gym</td>\n",
       "    </tr>\n",
       "    <tr>\n",
       "      <th>1</th>\n",
       "      <td>2025/10/01 10:40:33 AM GMT+3</td>\n",
       "      <td>Female</td>\n",
       "      <td>Yes, but inconsistently</td>\n",
       "      <td>Yes</td>\n",
       "      <td>Yes</td>\n",
       "      <td>No</td>\n",
       "      <td>NaN</td>\n",
       "      <td>30 days</td>\n",
       "      <td>Abdominal cramps;Fatigue;Nausea;Headaches;Bloa...</td>\n",
       "      <td>Abdominal cramps</td>\n",
       "      <td>2</td>\n",
       "      <td>7</td>\n",
       "      <td>9</td>\n",
       "      <td>8</td>\n",
       "      <td>0 (This is the week)</td>\n",
       "      <td>Sad</td>\n",
       "      <td>8</td>\n",
       "      <td>Less than 2 hours</td>\n",
       "      <td>No</td>\n",
       "      <td>Art</td>\n",
       "    </tr>\n",
       "  </tbody>\n",
       "</table>\n",
       "</div>"
      ],
      "text/plain": [
       "                      Timestamp     Sex            Mens_tracking emo_tracking  \\\n",
       "0  2025/10/01 10:27:58 AM GMT+3  Female  Yes, but inconsistently    Sometimes   \n",
       "1  2025/10/01 10:40:33 AM GMT+3  Female  Yes, but inconsistently          Yes   \n",
       "\n",
       "  phase_awareness condition condition_name cycle_length  \\\n",
       "0              No        No            NaN           26   \n",
       "1             Yes        No            NaN      30 days   \n",
       "\n",
       "                                  menstrual_symptoms  \\\n",
       "0  Abdominal cramps;Fatigue;Nausea;Cravings;Heada...   \n",
       "1  Abdominal cramps;Fatigue;Nausea;Headaches;Bloa...   \n",
       "\n",
       "                     ovulation_symptoms  mood1  mood2  mood3  mood4  \\\n",
       "0  Abdominal cramps;Increased sex drive      3      5      8      2   \n",
       "1                      Abdominal cramps      2      7      9      8   \n",
       "\n",
       "      weeks_from_period mood_this_week  productivity_rating  \\\n",
       "0                     2           Calm                    5   \n",
       "1  0 (This is the week)            Sad                    8   \n",
       "\n",
       "       workout_hours nutritional_tracking                        self_care  \n",
       "0          5–7 hours        workout_hours  Meditation, yoga, swimming, gym  \n",
       "1  Less than 2 hours                   No                              Art  "
      ]
     },
     "execution_count": 11,
     "metadata": {},
     "output_type": "execute_result"
    }
   ],
   "source": [
    "#import data\n",
    "raw_df=pd.read_csv('datasets/Hormonal Cycle Wellness Research.csv')\n",
    "raw_df.head(2)"
   ]
  },
  {
   "cell_type": "code",
   "execution_count": null,
   "id": "7bd11fc2",
   "metadata": {},
   "outputs": [
    {
     "data": {
      "text/plain": [
       "Index(['condition_name', 'cycle_length', 'menstrual_symptoms',\n",
       "       'ovulation_symptoms', 'mood1', 'mood2', 'mood3', 'mood4'],\n",
       "      dtype='object')"
      ]
     },
     "execution_count": 12,
     "metadata": {},
     "output_type": "execute_result"
    }
   ],
   "source": [
    "#selecting necessary columns\n",
    "raw_df=raw_df.loc[:,['condition_name','cycle_length','menstrual_symptoms', 'ovulation_symptoms', 'mood1', 'mood2', 'mood3','mood4']]\n",
    "raw_df.columns"
   ]
  },
  {
   "cell_type": "code",
   "execution_count": 13,
   "id": "57c21da7",
   "metadata": {},
   "outputs": [
    {
     "data": {
      "text/plain": [
       "condition_name        25\n",
       "cycle_length           0\n",
       "menstrual_symptoms     0\n",
       "ovulation_symptoms     0\n",
       "mood1                  0\n",
       "mood2                  0\n",
       "mood3                  0\n",
       "mood4                  0\n",
       "dtype: int64"
      ]
     },
     "execution_count": 13,
     "metadata": {},
     "output_type": "execute_result"
    }
   ],
   "source": [
    "#check for nulls\n",
    "raw_df.isna().sum()"
   ]
  },
  {
   "cell_type": "code",
   "execution_count": null,
   "id": "23673f7d",
   "metadata": {},
   "outputs": [
    {
     "data": {
      "text/plain": [
       "(27, 8)"
      ]
     },
     "execution_count": 21,
     "metadata": {},
     "output_type": "execute_result"
    }
   ],
   "source": [
    "#number of rows and columns\n",
    "raw_df.shape"
   ]
  },
  {
   "cell_type": "markdown",
   "id": "a1076901",
   "metadata": {},
   "source": [
    "## Cleaning the data\n"
   ]
  },
  {
   "cell_type": "code",
   "execution_count": 14,
   "id": "97ecf688",
   "metadata": {},
   "outputs": [
    {
     "name": "stderr",
     "output_type": "stream",
     "text": [
      "C:\\Users\\musom\\AppData\\Local\\Temp\\ipykernel_2604\\1205780476.py:2: FutureWarning: A value is trying to be set on a copy of a DataFrame or Series through chained assignment using an inplace method.\n",
      "The behavior will change in pandas 3.0. This inplace method will never work because the intermediate object on which we are setting values always behaves as a copy.\n",
      "\n",
      "For example, when doing 'df[col].method(value, inplace=True)', try using 'df.method({col: value}, inplace=True)' or df[col] = df[col].method(value) instead, to perform the operation inplace on the original object.\n",
      "\n",
      "\n",
      "  raw_df.condition_name.fillna(\"None\", inplace=True)\n"
     ]
    },
    {
     "data": {
      "text/plain": [
       "0    None\n",
       "1    None\n",
       "2    None\n",
       "3    None\n",
       "4    None\n",
       "Name: condition_name, dtype: object"
      ]
     },
     "execution_count": 14,
     "metadata": {},
     "output_type": "execute_result"
    }
   ],
   "source": [
    "#no homornal condition\n",
    "raw_df.condition_name.fillna(\"None\", inplace=True)\n",
    "raw_df.condition_name.head()"
   ]
  },
  {
   "cell_type": "code",
   "execution_count": null,
   "id": "091b6ebd",
   "metadata": {},
   "outputs": [
    {
     "name": "stderr",
     "output_type": "stream",
     "text": [
      "c:\\Users\\musom\\AppData\\Local\\Programs\\Python\\Python313\\Lib\\site-packages\\numpy\\lib\\_function_base_impl.py:552: RuntimeWarning: Mean of empty slice.\n",
      "  avg = a.mean(axis, **keepdims_kw)\n",
      "c:\\Users\\musom\\AppData\\Local\\Programs\\Python\\Python313\\Lib\\site-packages\\numpy\\_core\\_methods.py:145: RuntimeWarning: invalid value encountered in scalar divide\n",
      "  ret = ret.dtype.type(ret / rcount)\n"
     ]
    }
   ],
   "source": [
    "#cleaning cycle length\n",
    "import re\n",
    "def clean_days(day_string: str) -> float:\n",
    "    days=re.findall(r'\\d+',day_string)   #find all the specified dates e.g., from 28 to 30 = [28,30]\n",
    "    days=list(map(float, days))\n",
    "    avg_days=np.average(days)   #calculate the average of the days\n",
    "    return avg_days\n",
    "\n",
    "\n",
    "raw_df.cycle_length=raw_df.cycle_length.apply(clean_days)"
   ]
  },
  {
   "cell_type": "code",
   "execution_count": 16,
   "id": "2b6171ce",
   "metadata": {},
   "outputs": [],
   "source": [
    "raw_df['menstrual_symptoms']=raw_df['menstrual_symptoms'].apply(lambda x:x.split(';'))\n",
    "raw_df['ovulation_symptoms']=raw_df['ovulation_symptoms'].apply(lambda x:x.split(';'))"
   ]
  },
  {
   "cell_type": "code",
   "execution_count": 17,
   "id": "f38fa685",
   "metadata": {},
   "outputs": [
    {
     "data": {
      "text/plain": [
       "Index(['condition_name', 'cycle_length', 'menstrual_symptoms',\n",
       "       'ovulation_symptoms', 'mood1', 'mood2', 'mood3', 'mood4'],\n",
       "      dtype='object')"
      ]
     },
     "execution_count": 17,
     "metadata": {},
     "output_type": "execute_result"
    }
   ],
   "source": [
    "raw_df.columns"
   ]
  },
  {
   "cell_type": "code",
   "execution_count": 18,
   "id": "daf44ffd",
   "metadata": {},
   "outputs": [],
   "source": [
    "import pandas as pd\n",
    "df=pd.DataFrame(raw_df)\n",
    "raw_df.to_excel('clean_data.xlsx', index=False)"
   ]
  },
  {
   "cell_type": "markdown",
   "id": "ee68cb8c",
   "metadata": {},
   "source": [
    "## Visualizing the data"
   ]
  },
  {
   "cell_type": "code",
   "execution_count": 19,
   "id": "9ce139f1",
   "metadata": {},
   "outputs": [
    {
     "data": {
      "text/plain": [
       "Text(0.5, 1.0, 'Distribution of Cycle Lengths')"
      ]
     },
     "execution_count": 19,
     "metadata": {},
     "output_type": "execute_result"
    },
    {
     "data": {
      "image/png": "[encoded data removed]",
      "text/plain": [
       "<Figure size 1000x600 with 1 Axes>"
      ]
     },
     "metadata": {},
     "output_type": "display_data"
    }
   ],
   "source": [
    "import matplotlib.pyplot as plt\n",
    "\n",
    "#Plotting the distribution of cycle lengths\n",
    "plt.figure(figsize=(10, 6))\n",
    "plt.hist(raw_df['cycle_length'], bins=range(20, 41), color='skyblue', edgecolor='black')\n",
    "plt.title('Distribution of Cycle Lengths')"
   ]
  },
  {
   "cell_type": "code",
   "execution_count": 20,
   "id": "1888215d",
   "metadata": {},
   "outputs": [
    {
     "data": {
      "image/png": "[encoded data removed]",
      "text/plain": [
       "<Figure size 1000x800 with 4 Axes>"
      ]
     },
     "metadata": {},
     "output_type": "display_data"
    }
   ],
   "source": [
    "#plotting mood in the 4 phases\n",
    "#grid\n",
    "fig, axes = plt.subplots(2, 2, figsize=(10, 8))\n",
    "\n",
    "#histograms\n",
    "axes[0, 0].hist(raw_df['mood1'], bins=10)\n",
    "axes[0, 0].set_title('week 1 mood')\n",
    "\n",
    "axes[0, 1].hist(raw_df['mood2'], bins=10, color='orange')\n",
    "axes[0, 1].set_title('week 2 mood')\n",
    "\n",
    "axes[1, 0].hist(raw_df['mood3'], bins=10, color='green')\n",
    "axes[1, 0].set_title('week 3 mood')\n",
    "\n",
    "axes[1, 1].hist(raw_df['mood4'], bins=10, color='red')\n",
    "axes[1, 1].set_title('week 4 mood')\n",
    "\n",
    "plt.tight_layout()\n",
    "plt.show()"
   ]
  }
 ],
 "metadata": {
  "kernelspec": {
   "display_name": "Python 3",
   "language": "python",
   "name": "python3"
  },
  "language_info": {
   "codemirror_mode": {
    "name": "ipython",
    "version": 3
   },
   "file_extension": ".py",
   "mimetype": "text/x-python",
   "name": "python",
   "nbconvert_exporter": "python",
   "pygments_lexer": "ipython3",
   "version": "3.13.7"
  }
 },
 "nbformat": 4,
 "nbformat_minor": 5
}
